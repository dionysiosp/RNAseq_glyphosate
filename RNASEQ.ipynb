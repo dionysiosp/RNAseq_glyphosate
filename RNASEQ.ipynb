{
  "cells": [
    {
      "cell_type": "code",
      "execution_count": null,
      "metadata": {
        "id": "TsP43bXHPMdW"
      },
      "outputs": [],
      "source": [
        "#This cell connects the python notebook to the Google Drive\n",
        "from google.colab import drive\n",
        "drive.mount('/content/drive')"
      ]
    },
    {
      "cell_type": "code",
      "execution_count": null,
      "metadata": {
        "id": "mZyi3vYvPbvm"
      },
      "outputs": [],
      "source": [
        "#This cell changes to working directory. Make sure to adjust your working directory.\n",
        "cd '/content/drive/My Drive/Colab/RNA Seq'"
      ]
    },
    {
      "cell_type": "code",
      "source": [
        "!apt-get install fastqc"
      ],
      "metadata": {
        "id": "tXDXo4IPPAT4"
      },
      "execution_count": null,
      "outputs": []
    },
    {
      "cell_type": "code",
      "source": [
        "#Quality control for fastq.gz files\n",
        "!fastqc *.fastq.gz"
      ],
      "metadata": {
        "id": "vBvoPkkHO_Qa"
      },
      "execution_count": null,
      "outputs": []
    },
    {
      "cell_type": "code",
      "execution_count": null,
      "metadata": {
        "id": "oJyWU3YYRBHT"
      },
      "outputs": [],
      "source": [
        "!apt-get install hisat2"
      ]
    },
    {
      "cell_type": "code",
      "execution_count": null,
      "metadata": {
        "id": "iQDjA7xhROUx"
      },
      "outputs": [],
      "source": [
        "#This builds the genomic index from the fna file in the current directory.\n",
        "# Adjust the index name depending on your organism/genome of interest and make sure there is only one .fna file, which is the fasta file of the reference sequence.\n",
        "!hisat2-build *.fna CCanadensis_index"
      ]
    },
    {
      "cell_type": "code",
      "execution_count": null,
      "metadata": {
        "id": "3L5QGtmzUduN"
      },
      "outputs": [],
      "source": [
        "#Run the alignment in separate lines for each file, so that if it crashes you don't have to rerun all of them\n",
        "#This step takes a long time to complete\n",
        "!hisat2 -x CCanadensis_index -U watera.fastq.gz -S watera_alignment.sam\n",
        "!hisat2 -x CCanadensis_index -U waterb.fastq.gz -S waterb_alignment.sam\n"
      ]
    },
    {
      "cell_type": "code",
      "execution_count": null,
      "metadata": {
        "id": "Q5AWVx-irfT1"
      },
      "outputs": [],
      "source": [
        "#Same as above.\n",
        "!hisat2 -x CCanadensis_index -U glyphosatea.fastq.gz -S glyphosatea_alignment.sam\n",
        "!hisat2 -x CCanadensis_index -U glyphosateb.fastq.gz -S glyphosateb_alignment.sam"
      ]
    },
    {
      "cell_type": "code",
      "execution_count": null,
      "metadata": {
        "id": "9lV8vm5_FHfG"
      },
      "outputs": [],
      "source": [
        "!apt-get install samtools"
      ]
    },
    {
      "cell_type": "code",
      "execution_count": 2,
      "metadata": {
        "id": "2pwHwa_LEpr3"
      },
      "outputs": [],
      "source": [
        "#Converting .sam alignments to .bam files\n",
        "!samtools view -S -b watera_alignment.sam > watera_alignment.bam\n",
        "!samtools view -S -b waterb_alignment.sam > waterb_alignment.bam\n",
        "!samtools view -S -b glyphosatea_alignment.sam > glyphosatea_alignment.bam\n",
        "!samtools view -S -b glyphosateb_alignment.sam > glyphosateb_alignment.bam\n"
      ]
    },
    {
      "cell_type": "code",
      "source": [
        "!apt-get install subread"
      ],
      "metadata": {
        "id": "QBbnW9PfJWSR"
      },
      "execution_count": null,
      "outputs": []
    },
    {
      "cell_type": "code",
      "source": [
        "#Creating a counts table, which is the input file for the DESEQ analysis. Make sure there is one gtf file in your working directory, corresponding to the annotated genome of interest.\n",
        "!featureCounts -a *c.gtf -o counts.txt *.bam"
      ],
      "metadata": {
        "id": "rsPC-pM3JX7u"
      },
      "execution_count": null,
      "outputs": []
    }
  ],
  "metadata": {
    "colab": {
      "provenance": []
    },
    "kernelspec": {
      "display_name": "Python 3",
      "name": "python3"
    },
    "language_info": {
      "name": "python"
    }
  },
  "nbformat": 4,
  "nbformat_minor": 0
}